{
 "cells": [
  {
   "cell_type": "code",
   "execution_count": 2,
   "metadata": {},
   "outputs": [
    {
     "name": "stdout",
     "output_type": "stream",
     "text": [
      "Music file F:\\New folder\\Music Player\\KGF BGM.mp3 loaded!\n"
     ]
    },
    {
     "name": "stderr",
     "output_type": "stream",
     "text": [
      "Exception in Tkinter callback\n",
      "Traceback (most recent call last):\n",
      "  File \"c:\\Python311\\Lib\\tkinter\\__init__.py\", line 1948, in __call__\n",
      "    return self.func(*args)\n",
      "           ^^^^^^^^^^^^^^^^\n",
      "  File \"C:\\Users\\HP\\AppData\\Local\\Temp\\ipykernel_15668\\973953265.py\", line 50, in forward_music\n",
      "    pygame.mixer.music.set_pos(current_pos + 10)  # Forward 10 seconds\n",
      "    ^^^^^^^^^^^^^^^^^^^^^^^^^^^^^^^^^^^^^^^^^^^^\n",
      "pygame.error: Music isn't playing\n"
     ]
    }
   ],
   "source": [
    "import pygame\n",
    "import tkinter as tk\n",
    "from tkinter import filedialog\n",
    "\n",
    "class MusicPlayerApp:\n",
    "    def __init__(self, root, file_path):\n",
    "        self.root = root\n",
    "        self.root.title(\"Music Player\")\n",
    "        self.root.geometry(\"300x150\")\n",
    "\n",
    "        self.music_file_path = file_path\n",
    "\n",
    "        self.play_button = tk.Button(self.root, text=\"Play\", command=self.play_music)\n",
    "        self.play_button.pack(pady=10)\n",
    "\n",
    "        self.pause_button = tk.Button(self.root, text=\"Pause\", command=self.pause_music)\n",
    "        self.pause_button.pack(pady=10)\n",
    "\n",
    "        self.forward_button = tk.Button(self.root, text=\"Forward\", command=self.forward_music)\n",
    "        self.forward_button.pack(pady=10)\n",
    "\n",
    "        self.backward_button = tk.Button(self.root, text=\"Backward\", command=self.backward_music)\n",
    "        self.backward_button.pack(pady=10)\n",
    "\n",
    "        self.paused = False\n",
    "\n",
    "        self.load_music(self.music_file_path)\n",
    "\n",
    "    def load_music(self, file_path):\n",
    "        try:\n",
    "            pygame.mixer.music.load(file_path)\n",
    "            print(\"Music file {} loaded!\".format(file_path))\n",
    "        except pygame.error:\n",
    "            print(\"File {} not found! ({})\".format(file_path, pygame.get_error()))\n",
    "\n",
    "    def play_music(self):\n",
    "        if self.music_file_path:\n",
    "            pygame.mixer.music.play()\n",
    "\n",
    "    def pause_music(self):\n",
    "        if self.paused:\n",
    "            pygame.mixer.music.unpause()\n",
    "            self.paused = False\n",
    "        else:\n",
    "            pygame.mixer.music.pause()\n",
    "            self.paused = True\n",
    "\n",
    "    def forward_music(self):\n",
    "        current_pos = pygame.mixer.music.get_pos() // 1000  # Current position in seconds\n",
    "        pygame.mixer.music.set_pos(current_pos + 10)  # Forward 10 seconds\n",
    "\n",
    "    def backward_music(self):\n",
    "        current_pos = pygame.mixer.music.get_pos() // 1000  # Current position in seconds\n",
    "        pygame.mixer.music.set_pos(current_pos - 10)  # Backward 10 seconds\n",
    "\n",
    "def main():\n",
    "    pygame.init()\n",
    "    file_path = r'F:\\New folder\\Music Player\\KGF BGM.mp3'\n",
    "    root = tk.Tk()\n",
    "    app = MusicPlayerApp(root, file_path)\n",
    "    root.mainloop()\n",
    "\n",
    "if __name__ == \"__main__\":\n",
    "    main()\n"
   ]
  },
  {
   "cell_type": "code",
   "execution_count": null,
   "metadata": {},
   "outputs": [],
   "source": []
  }
 ],
 "metadata": {
  "kernelspec": {
   "display_name": "Python 3",
   "language": "python",
   "name": "python3"
  },
  "language_info": {
   "codemirror_mode": {
    "name": "ipython",
    "version": 3
   },
   "file_extension": ".py",
   "mimetype": "text/x-python",
   "name": "python",
   "nbconvert_exporter": "python",
   "pygments_lexer": "ipython3",
   "version": "3.11.2"
  }
 },
 "nbformat": 4,
 "nbformat_minor": 2
}
